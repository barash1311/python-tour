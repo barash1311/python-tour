{
 "cells": [
  {
   "cell_type": "code",
   "execution_count": 1,
   "id": "65ef8a94",
   "metadata": {},
   "outputs": [
    {
     "name": "stdout",
     "output_type": "stream",
     "text": [
      "enter a numberser\n",
      "emter a numner\n",
      "g\n",
      "enter a number2\n",
      "ol\n",
      "g\n"
     ]
    }
   ],
   "source": [
    "#errorsd\n",
    "while True:\n",
    "        try :\n",
    "            a=int(input(\"enter a number\"))\n",
    "        except:\n",
    "            print(\"emter a numner\")\n",
    "            continue\n",
    "        else:\n",
    "            print(\"ol\")\n",
    "            break\n",
    "        finally:\n",
    "            print(\"g\")"
   ]
  },
  {
   "cell_type": "code",
   "execution_count": null,
   "id": "7e3bcbbb",
   "metadata": {},
   "outputs": [],
   "source": []
  },
  {
   "cell_type": "code",
   "execution_count": null,
   "id": "d00c57bb",
   "metadata": {},
   "outputs": [],
   "source": []
  }
 ],
 "metadata": {
  "kernelspec": {
   "display_name": "Python 3 (ipykernel)",
   "language": "python",
   "name": "python3"
  },
  "language_info": {
   "codemirror_mode": {
    "name": "ipython",
    "version": 3
   },
   "file_extension": ".py",
   "mimetype": "text/x-python",
   "name": "python",
   "nbconvert_exporter": "python",
   "pygments_lexer": "ipython3",
   "version": "3.11.5"
  }
 },
 "nbformat": 4,
 "nbformat_minor": 5
}
