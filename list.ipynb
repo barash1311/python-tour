{
 "cells": [
  {
   "cell_type": "code",
   "execution_count": 5,
   "id": "aecce788",
   "metadata": {},
   "outputs": [
    {
     "ename": "TypeError",
     "evalue": "'str' object does not support item assignment",
     "output_type": "error",
     "traceback": [
      "\u001b[1;31m---------------------------------------------------------------------------\u001b[0m",
      "\u001b[1;31mTypeError\u001b[0m                                 Traceback (most recent call last)",
      "Cell \u001b[1;32mIn[5], line 4\u001b[0m\n\u001b[0;32m      2\u001b[0m my_string[\u001b[38;5;241m0\u001b[39m]\n\u001b[0;32m      3\u001b[0m \u001b[38;5;66;03m#string are immutable\u001b[39;00m\n\u001b[1;32m----> 4\u001b[0m my_string[\u001b[38;5;241m1\u001b[39m]\u001b[38;5;241m=\u001b[39m\u001b[38;5;124m\"\u001b[39m\u001b[38;5;124md\u001b[39m\u001b[38;5;124m\"\u001b[39m\n",
      "\u001b[1;31mTypeError\u001b[0m: 'str' object does not support item assignment"
     ]
    }
   ],
   "source": [
    "my_string=\"helloworld\"\n",
    "my_string[0]\n",
    "#string are immutable\n",
    "my_string[1]=\"d\""
   ]
  },
  {
   "cell_type": "code",
   "execution_count": 17,
   "id": "6c5e7708",
   "metadata": {},
   "outputs": [],
   "source": [
    "my_string=[1,4,3,2]\n",
    "#my_string[0]=2"
   ]
  },
  {
   "cell_type": "code",
   "execution_count": 45,
   "id": "e5db15a6",
   "metadata": {},
   "outputs": [
    {
     "name": "stdout",
     "output_type": "stream",
     "text": [
      "<class 'str'>\n"
     ]
    }
   ],
   "source": [
    "\n",
    "#my_string.remove(4)\n",
    "my_string=[1,2,'3',4]\n",
    "print(type(my_string[-2]))\n"
   ]
  },
  {
   "cell_type": "markdown",
   "id": "2f5d6da7",
   "metadata": {},
   "source": [
    "#### "
   ]
  },
  {
   "cell_type": "code",
   "execution_count": null,
   "id": "a64e0cce",
   "metadata": {},
   "outputs": [],
   "source": []
  }
 ],
 "metadata": {
  "kernelspec": {
   "display_name": "Python 3 (ipykernel)",
   "language": "python",
   "name": "python3"
  },
  "language_info": {
   "codemirror_mode": {
    "name": "ipython",
    "version": 3
   },
   "file_extension": ".py",
   "mimetype": "text/x-python",
   "name": "python",
   "nbconvert_exporter": "python",
   "pygments_lexer": "ipython3",
   "version": "3.11.5"
  }
 },
 "nbformat": 4,
 "nbformat_minor": 5
}
