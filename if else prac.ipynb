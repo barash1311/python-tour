{
 "cells": [
  {
   "cell_type": "code",
   "execution_count": 1,
   "id": "168096ac",
   "metadata": {},
   "outputs": [
    {
     "name": "stdout",
     "output_type": "stream",
     "text": [
      "teri ma ki\n"
     ]
    }
   ],
   "source": [
    "my_string=\"hello world\"\n",
    "if my_string==\"hello world\":\n",
    "    print(rando,)"
   ]
  },
  {
   "cell_type": "code",
   "execution_count": null,
   "id": "a8a2b143",
   "metadata": {},
   "outputs": [],
   "source": []
  }
 ],
 "metadata": {
  "kernelspec": {
   "display_name": "Python 3 (ipykernel)",
   "language": "python",
   "name": "python3"
  },
  "language_info": {
   "codemirror_mode": {
    "name": "ipython",
    "version": 3
   },
   "file_extension": ".py",
   "mimetype": "text/x-python",
   "name": "python",
   "nbconvert_exporter": "python",
   "pygments_lexer": "ipython3",
   "version": "3.11.5"
  }
 },
 "nbformat": 4,
 "nbformat_minor": 5
}
