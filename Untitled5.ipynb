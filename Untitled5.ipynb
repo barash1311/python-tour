{
 "cells": [
  {
   "cell_type": "code",
   "execution_count": 2,
   "id": "ae08b599",
   "metadata": {},
   "outputs": [
    {
     "data": {
      "text/plain": [
       "'HELLO'"
      ]
     },
     "execution_count": 2,
     "metadata": {},
     "output_type": "execute_result"
    }
   ],
   "source": [
    "#functions amd methods\n",
    "\n",
    "my_string=\"hello\"\n",
    "my_string.upper()"
   ]
  },
  {
   "cell_type": "code",
   "execution_count": 4,
   "id": "f711a0de",
   "metadata": {},
   "outputs": [
    {
     "name": "stdout",
     "output_type": "stream",
     "text": [
      "Help on built-in function upper:\n",
      "\n",
      "upper() method of builtins.str instance\n",
      "    Return a copy of the string converted to uppercase.\n",
      "\n"
     ]
    }
   ],
   "source": [
    "help(my_string.upper)"
   ]
  },
  {
   "cell_type": "code",
   "execution_count": 5,
   "id": "88504a4b",
   "metadata": {},
   "outputs": [],
   "source": [
    "def hello_world():\n",
    "    print(\"hello world\")\n",
    "    print(\"hello world\")\n",
    "    \n",
    "def hello():\n",
    "    print(\"nameste\")\n",
    "    "
   ]
  },
  {
   "cell_type": "code",
   "execution_count": 8,
   "id": "c989cd35",
   "metadata": {},
   "outputs": [
    {
     "name": "stdout",
     "output_type": "stream",
     "text": [
      "hello world\n",
      "hello world\n",
      "nameste\n"
     ]
    }
   ],
   "source": [
    "hello_world()\n",
    "hello()"
   ]
  },
  {
   "cell_type": "markdown",
   "id": "81e4af2f",
   "metadata": {},
   "source": [
    "##input and output"
   ]
  },
  {
   "cell_type": "code",
   "execution_count": 15,
   "id": "3a8bbcdb",
   "metadata": {},
   "outputs": [
    {
     "name": "stdout",
     "output_type": "stream",
     "text": [
      "enter the namepython\n",
      "hello python\n",
      "<class 'str'>\n"
     ]
    }
   ],
   "source": [
    "def hello(a):\n",
    "    print(\"hello \"+a)\n",
    "    print(type(a))\n",
    "a=input(\"enter the name\")\n",
    "hello(a)"
   ]
  },
  {
   "cell_type": "code",
   "execution_count": 24,
   "id": "ee1fc8bd",
   "metadata": {},
   "outputs": [
    {
     "ename": "NameError",
     "evalue": "name 'b' is not defined",
     "output_type": "error",
     "traceback": [
      "\u001b[1;31m---------------------------------------------------------------------------\u001b[0m",
      "\u001b[1;31mNameError\u001b[0m                                 Traceback (most recent call last)",
      "Cell \u001b[1;32mIn[24], line 6\u001b[0m\n\u001b[0;32m      2\u001b[0m \u001b[38;5;28;01mdef\u001b[39;00m \u001b[38;5;21msum\u001b[39m(a,b,c):\n\u001b[0;32m      3\u001b[0m \u001b[38;5;250m   \u001b[39m\u001b[38;5;124;03m''' a=int(input(\"a=\"))\u001b[39;00m\n\u001b[0;32m      4\u001b[0m \u001b[38;5;124;03m    b=int(input(\"b=\"))\u001b[39;00m\n\u001b[0;32m      5\u001b[0m \u001b[38;5;124;03m    c=int(input(\"c=\"))'''\u001b[39;00m\n\u001b[1;32m----> 6\u001b[0m \u001b[38;5;28msum\u001b[39m\u001b[38;5;241m=\u001b[39m(a\u001b[38;5;241m+\u001b[39mb\u001b[38;5;241m+\u001b[39mc)\n\u001b[0;32m      7\u001b[0m \u001b[38;5;28;01mreturn\u001b[39;00m \u001b[38;5;28msum\u001b[39m\n\u001b[0;32m      8\u001b[0m \u001b[38;5;28msum\u001b[39m(\u001b[38;5;241m1\u001b[39m,\u001b[38;5;241m2\u001b[39m,\u001b[38;5;241m3\u001b[39m)\n",
      "\u001b[1;31mNameError\u001b[0m: name 'b' is not defined"
     ]
    }
   ],
   "source": [
    "#aum \n",
    "def sum(a,b,c):\n",
    "   ''' a=int(input(\"a=\"))\n",
    "    b=int(input(\"b=\"))\n",
    "    c=int(input(\"c=\"))'''\n",
    "sum=(a+b+c)\n",
    "return sum\n",
    "sum(1,2,3)"
   ]
  },
  {
   "cell_type": "code",
   "execution_count": 19,
   "id": "ae4fa37f",
   "metadata": {},
   "outputs": [
    {
     "ename": "TypeError",
     "evalue": "sum() takes 0 positional arguments but 3 were given",
     "output_type": "error",
     "traceback": [
      "\u001b[1;31m---------------------------------------------------------------------------\u001b[0m",
      "\u001b[1;31mTypeError\u001b[0m                                 Traceback (most recent call last)",
      "Cell \u001b[1;32mIn[19], line 1\u001b[0m\n\u001b[1;32m----> 1\u001b[0m \u001b[38;5;28msum\u001b[39m(\u001b[38;5;241m2\u001b[39m,\u001b[38;5;241m3\u001b[39m,\u001b[38;5;241m4\u001b[39m)\n",
      "\u001b[1;31mTypeError\u001b[0m: sum() takes 0 positional arguments but 3 were given"
     ]
    }
   ],
   "source": [
    "sum(2,3,4)"
   ]
  },
  {
   "cell_type": "code",
   "execution_count": 2,
   "id": "97c6f93e",
   "metadata": {},
   "outputs": [],
   "source": [
    "#arbitalry arguemt \n",
    "def summ(num1,num2):\n",
    "   num3=num1+num2\n",
    "   print(num3)"
   ]
  },
  {
   "cell_type": "code",
   "execution_count": 3,
   "id": "ef278ea2",
   "metadata": {},
   "outputs": [
    {
     "data": {
      "text/plain": [
       "28"
      ]
     },
     "execution_count": 3,
     "metadata": {},
     "output_type": "execute_result"
    }
   ],
   "source": [
    "def summation(*args):\n",
    "    return sum(args)\n",
    "summation(1,2,3,4,5,6,7)"
   ]
  },
  {
   "cell_type": "code",
   "execution_count": 4,
   "id": "d07b5ef9",
   "metadata": {},
   "outputs": [
    {
     "name": "stdout",
     "output_type": "stream",
     "text": [
      "Help on built-in function sum in module builtins:\n",
      "\n",
      "sum(iterable, /, start=0)\n",
      "    Return the sum of a 'start' value (default: 0) plus an iterable of numbers\n",
      "    \n",
      "    When the iterable is empty, return the start value.\n",
      "    This function is intended specifically for use with numeric values and may\n",
      "    reject non-numeric types.\n",
      "\n"
     ]
    }
   ],
   "source": [
    "help(sum)"
   ]
  },
  {
   "cell_type": "code",
   "execution_count": 5,
   "id": "0780d20c",
   "metadata": {},
   "outputs": [
    {
     "name": "stdout",
     "output_type": "stream",
     "text": [
      "(1, 2, 3, 4, 5, 6, 7)\n"
     ]
    }
   ],
   "source": [
    "def example(*hello):\n",
    "    print(hello)\n",
    "example(1,2,3,4,5,6,7)    \n",
    "    "
   ]
  },
  {
   "cell_type": "code",
   "execution_count": 7,
   "id": "5ef4bf39",
   "metadata": {},
   "outputs": [
    {
     "name": "stdout",
     "output_type": "stream",
     "text": [
      "{'run': 12, 'a': 2, 'b': 4}\n"
     ]
    }
   ],
   "source": [
    "def we(**hello):\n",
    "    print(hello)\n",
    "we(run=12,a=2,b=4)"
   ]
  },
  {
   "cell_type": "code",
   "execution_count": 10,
   "id": "42bb3d48",
   "metadata": {},
   "outputs": [],
   "source": [
    "def mul(number):\n",
    "    return number*2\n"
   ]
  },
  {
   "cell_type": "code",
   "execution_count": 11,
   "id": "7a440dd4",
   "metadata": {},
   "outputs": [
    {
     "data": {
      "text/plain": [
       "40"
      ]
     },
     "execution_count": 11,
     "metadata": {},
     "output_type": "execute_result"
    }
   ],
   "source": [
    "mul(20)"
   ]
  },
  {
   "cell_type": "code",
   "execution_count": 12,
   "id": "a597f783",
   "metadata": {},
   "outputs": [],
   "source": [
    "my_list=[1,2,3,4,5,6,7,8,9,10]"
   ]
  },
  {
   "cell_type": "code",
   "execution_count": 22,
   "id": "253316cd",
   "metadata": {},
   "outputs": [
    {
     "ename": "TypeError",
     "evalue": "Random.uniform() missing 1 required positional argument: 'b'",
     "output_type": "error",
     "traceback": [
      "\u001b[1;31m---------------------------------------------------------------------------\u001b[0m",
      "\u001b[1;31mTypeError\u001b[0m                                 Traceback (most recent call last)",
      "Cell \u001b[1;32mIn[22], line 4\u001b[0m\n\u001b[0;32m      2\u001b[0m \u001b[38;5;28;01mfrom\u001b[39;00m \u001b[38;5;21;01mrandom\u001b[39;00m \u001b[38;5;28;01mimport\u001b[39;00m uniform\n\u001b[0;32m      3\u001b[0m \u001b[38;5;28;01mfor\u001b[39;00m num \u001b[38;5;129;01min\u001b[39;00m my_list:\n\u001b[1;32m----> 4\u001b[0m     uniform(my_list)\n\u001b[0;32m      5\u001b[0m     \u001b[38;5;28mprint\u001b[39m(mul(num))\n",
      "\u001b[1;31mTypeError\u001b[0m: Random.uniform() missing 1 required positional argument: 'b'"
     ]
    }
   ],
   "source": [
    "import random\n",
    "#from random import shuffle\n",
    "for num in my_list:\n",
    "    shuffle(my_list)\n",
    "    print(mul(num))\n",
    "    "
   ]
  },
  {
   "cell_type": "code",
   "execution_count": 18,
   "id": "072c3e61",
   "metadata": {},
   "outputs": [],
   "source": [
    "#map can apply list function to list"
   ]
  },
  {
   "cell_type": "code",
   "execution_count": 20,
   "id": "ef50e593",
   "metadata": {},
   "outputs": [
    {
     "data": {
      "text/plain": [
       "[6, 4, 18, 8, 10, 20, 12, 16, 14, 2]"
      ]
     },
     "execution_count": 20,
     "metadata": {},
     "output_type": "execute_result"
    }
   ],
   "source": [
    "list(map(mul,my_list))"
   ]
  },
  {
   "cell_type": "code",
   "execution_count": 23,
   "id": "9a7bf02b",
   "metadata": {},
   "outputs": [
    {
     "data": {
      "text/plain": [
       "[3, 2, 9, 4, 5, 10, 6, 8, 7, 1]"
      ]
     },
     "execution_count": 23,
     "metadata": {},
     "output_type": "execute_result"
    }
   ],
   "source": [
    "list(filter(mul,my_list))"
   ]
  },
  {
   "cell_type": "code",
   "execution_count": null,
   "id": "67afc581",
   "metadata": {},
   "outputs": [],
   "source": [
    "#legb local enclosing slobal built in"
   ]
  }
 ],
 "metadata": {
  "kernelspec": {
   "display_name": "Python 3 (ipykernel)",
   "language": "python",
   "name": "python3"
  },
  "language_info": {
   "codemirror_mode": {
    "name": "ipython",
    "version": 3
   },
   "file_extension": ".py",
   "mimetype": "text/x-python",
   "name": "python",
   "nbconvert_exporter": "python",
   "pygments_lexer": "ipython3",
   "version": "3.11.5"
  }
 },
 "nbformat": 4,
 "nbformat_minor": 5
}
