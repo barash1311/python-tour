{
 "cells": [
  {
   "cell_type": "code",
   "execution_count": 1,
   "id": "43096a87",
   "metadata": {},
   "outputs": [],
   "source": [
    "mylist=[2,3,4,3]"
   ]
  },
  {
   "cell_type": "code",
   "execution_count": 2,
   "id": "577b91e1",
   "metadata": {},
   "outputs": [
    {
     "data": {
      "text/plain": [
       "[2, 3, 4, 3]"
      ]
     },
     "execution_count": 2,
     "metadata": {},
     "output_type": "execute_result"
    }
   ],
   "source": [
    "mylist\n"
   ]
  },
  {
   "cell_type": "code",
   "execution_count": 4,
   "id": "32e37e80",
   "metadata": {},
   "outputs": [
    {
     "data": {
      "text/plain": [
       "{2, 3, 4}"
      ]
     },
     "execution_count": 4,
     "metadata": {},
     "output_type": "execute_result"
    }
   ],
   "source": [
    "##CASTING\n",
    "my_set=set(mylist)\n",
    "my_set"
   ]
  },
  {
   "cell_type": "code",
   "execution_count": 9,
   "id": "41a5877b",
   "metadata": {},
   "outputs": [
    {
     "data": {
      "text/plain": [
       "{2, 'a', 'b', 'c'}"
      ]
     },
     "execution_count": 9,
     "metadata": {},
     "output_type": "execute_result"
    }
   ],
   "source": [
    "my={\"a\",\"b\",\"c\",\"a\"}\n",
    "me=set(my)\n",
    "me.add(2)\n",
    "me.add(\"a\")\n",
    "me"
   ]
  },
  {
   "cell_type": "code",
   "execution_count": 11,
   "id": "f9f10b5a",
   "metadata": {},
   "outputs": [
    {
     "data": {
      "text/plain": [
       "set"
      ]
     },
     "execution_count": 11,
     "metadata": {},
     "output_type": "execute_result"
    }
   ],
   "source": [
    "myset=set()\n",
    "type(myset)"
   ]
  },
  {
   "cell_type": "code",
   "execution_count": null,
   "id": "c2ec99a0",
   "metadata": {},
   "outputs": [],
   "source": []
  }
 ],
 "metadata": {
  "kernelspec": {
   "display_name": "Python 3 (ipykernel)",
   "language": "python",
   "name": "python3"
  },
  "language_info": {
   "codemirror_mode": {
    "name": "ipython",
    "version": 3
   },
   "file_extension": ".py",
   "mimetype": "text/x-python",
   "name": "python",
   "nbconvert_exporter": "python",
   "pygments_lexer": "ipython3",
   "version": "3.11.5"
  }
 },
 "nbformat": 4,
 "nbformat_minor": 5
}
