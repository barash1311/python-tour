{
 "cells": [
  {
   "cell_type": "code",
   "execution_count": 1,
   "id": "4d038d6c",
   "metadata": {},
   "outputs": [
    {
     "data": {
      "text/plain": [
       "64"
      ]
     },
     "execution_count": 1,
     "metadata": {},
     "output_type": "execute_result"
    }
   ],
   "source": [
    "#zip and random\n",
    "from random import randint\n",
    "randint(0,100)"
   ]
  },
  {
   "cell_type": "code",
   "execution_count": 2,
   "id": "9039c0df",
   "metadata": {},
   "outputs": [
    {
     "data": {
      "text/plain": [
       "11"
      ]
     },
     "execution_count": 2,
     "metadata": {},
     "output_type": "execute_result"
    }
   ],
   "source": [
    "randint(0,100)"
   ]
  },
  {
   "cell_type": "code",
   "execution_count": 3,
   "id": "41c91c39",
   "metadata": {},
   "outputs": [
    {
     "data": {
      "text/plain": [
       "97"
      ]
     },
     "execution_count": 3,
     "metadata": {},
     "output_type": "execute_result"
    }
   ],
   "source": [
    "randint(0,100)"
   ]
  },
  {
   "cell_type": "code",
   "execution_count": 4,
   "id": "55ee57ce",
   "metadata": {},
   "outputs": [
    {
     "data": {
      "text/plain": [
       "28"
      ]
     },
     "execution_count": 4,
     "metadata": {},
     "output_type": "execute_result"
    }
   ],
   "source": [
    "randint(0,100)\n"
   ]
  },
  {
   "cell_type": "code",
   "execution_count": 7,
   "id": "89c7f995",
   "metadata": {},
   "outputs": [],
   "source": [
    "import random\n",
    "from random import shuffle\n",
    "my_list=[1,2,3,4,5,6,7,8,9,10]\n",
    "shuffle(my_list)"
   ]
  },
  {
   "cell_type": "code",
   "execution_count": 8,
   "id": "2a9f76d6",
   "metadata": {},
   "outputs": [
    {
     "data": {
      "text/plain": [
       "[7, 3, 1, 8, 9, 10, 5, 4, 6, 2]"
      ]
     },
     "execution_count": 8,
     "metadata": {},
     "output_type": "execute_result"
    }
   ],
   "source": [
    "my_list\n"
   ]
  },
  {
   "cell_type": "code",
   "execution_count": 10,
   "id": "7491346c",
   "metadata": {},
   "outputs": [
    {
     "data": {
      "text/plain": [
       "[(1, '4', 7), (2, '5', 8), (3, '6', 9)]"
      ]
     },
     "execution_count": 10,
     "metadata": {},
     "output_type": "execute_result"
    }
   ],
   "source": [
    "#zip\n",
    "a=[1,2,3]\n",
    "b=[str(4),str(5),str(6)]\n",
    "c=[7,8,9]\n",
    "new=list(zip(a,b,c))\n",
    "new"
   ]
  },
  {
   "cell_type": "code",
   "execution_count": 15,
   "id": "b4d6c2db",
   "metadata": {},
   "outputs": [],
   "source": [
    "my_list=[]\n",
    "my_string=\"hello world\"\n",
    "for letter in my_string:\n",
    "    if letter==\" \":\n",
    "        continue\n",
    "    my_list.append(letter)\n",
    "    my_list"
   ]
  },
  {
   "cell_type": "code",
   "execution_count": 16,
   "id": "93e6323a",
   "metadata": {},
   "outputs": [
    {
     "data": {
      "text/plain": [
       "['h', 'e', 'l', 'l', 'o', 'w', 'o', 'r', 'l', 'd']"
      ]
     },
     "execution_count": 16,
     "metadata": {},
     "output_type": "execute_result"
    }
   ],
   "source": [
    "my_list"
   ]
  },
  {
   "cell_type": "code",
   "execution_count": 18,
   "id": "57bfeb49",
   "metadata": {},
   "outputs": [
    {
     "data": {
      "text/plain": [
       "['h', 'e', 'l', 'l', 'o', ' ', 'w', 'o', 'r', 'l', 'd']"
      ]
     },
     "execution_count": 18,
     "metadata": {},
     "output_type": "execute_result"
    }
   ],
   "source": [
    "my=[element for element in my_string]\n",
    "my"
   ]
  },
  {
   "cell_type": "code",
   "execution_count": null,
   "id": "2217ebd9",
   "metadata": {},
   "outputs": [],
   "source": []
  }
 ],
 "metadata": {
  "kernelspec": {
   "display_name": "Python 3 (ipykernel)",
   "language": "python",
   "name": "python3"
  },
  "language_info": {
   "codemirror_mode": {
    "name": "ipython",
    "version": 3
   },
   "file_extension": ".py",
   "mimetype": "text/x-python",
   "name": "python",
   "nbconvert_exporter": "python",
   "pygments_lexer": "ipython3",
   "version": "3.11.5"
  }
 },
 "nbformat": 4,
 "nbformat_minor": 5
}
