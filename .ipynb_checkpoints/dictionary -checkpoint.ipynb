{
 "cells": [
  {
   "cell_type": "code",
   "execution_count": 3,
   "id": "aba0efbb",
   "metadata": {},
   "outputs": [
    {
     "data": {
      "text/plain": [
       "'python'"
      ]
     },
     "execution_count": 3,
     "metadata": {},
     "output_type": "execute_result"
    }
   ],
   "source": [
    "my_dict={\"hey\":\"python\"}\n",
    "my_dict[\"hey\"]"
   ]
  },
  {
   "cell_type": "code",
   "execution_count": 16,
   "id": "995779ff",
   "metadata": {},
   "outputs": [
    {
     "data": {
      "text/plain": [
       "{'b': 23}"
      ]
     },
     "execution_count": 16,
     "metadata": {},
     "output_type": "execute_result"
    }
   ],
   "source": [
    "my_list=[1,2]\n",
    "my_list2=[\"a\",\"b\"]\n",
    "#my_list.append(my_list2)\n",
    "my_dict={1:\"a\",2:{\"b\":23}}\n",
    "my_dict[2]\n"
   ]
  },
  {
   "cell_type": "code",
   "execution_count": 17,
   "id": "e792966e",
   "metadata": {},
   "outputs": [
    {
     "data": {
      "text/plain": [
       "23"
      ]
     },
     "execution_count": 17,
     "metadata": {},
     "output_type": "execute_result"
    }
   ],
   "source": [
    "my_dict[2][\"b\"]"
   ]
  },
  {
   "cell_type": "code",
   "execution_count": 18,
   "id": "6c34ea4f",
   "metadata": {},
   "outputs": [],
   "source": [
    "my_dict[1]=45"
   ]
  },
  {
   "cell_type": "code",
   "execution_count": 19,
   "id": "210b1925",
   "metadata": {},
   "outputs": [
    {
     "data": {
      "text/plain": [
       "{1: 45, 2: {'b': 23}}"
      ]
     },
     "execution_count": 19,
     "metadata": {},
     "output_type": "execute_result"
    }
   ],
   "source": [
    "my_dict"
   ]
  },
  {
   "cell_type": "code",
   "execution_count": null,
   "id": "cc71a865",
   "metadata": {},
   "outputs": [],
   "source": []
  }
 ],
 "metadata": {
  "kernelspec": {
   "display_name": "Python 3 (ipykernel)",
   "language": "python",
   "name": "python3"
  },
  "language_info": {
   "codemirror_mode": {
    "name": "ipython",
    "version": 3
   },
   "file_extension": ".py",
   "mimetype": "text/x-python",
   "name": "python",
   "nbconvert_exporter": "python",
   "pygments_lexer": "ipython3",
   "version": "3.11.5"
  }
 },
 "nbformat": 4,
 "nbformat_minor": 5
}
