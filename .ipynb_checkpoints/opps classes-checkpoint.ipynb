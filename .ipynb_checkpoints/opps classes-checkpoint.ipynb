{
 "cells": [
  {
   "cell_type": "code",
   "execution_count": 1,
   "id": "db10166f",
   "metadata": {},
   "outputs": [],
   "source": [
    "##oops\n",
    "my_list=list()"
   ]
  },
  {
   "cell_type": "code",
   "execution_count": 2,
   "id": "0d283390",
   "metadata": {},
   "outputs": [],
   "source": [
    "class MyMusic():\n",
    "    def __init__(self,name,age):\n",
    "        self.name=name\n",
    "        self.age=age\n",
    "    def sing(self):\n",
    "        print(\"we are champions\")\n",
    "MyMusic1=MyMusic(\"a\",10)\n",
    "MyMusic2=MyMusic(\"b\",20)\n",
    "MyMusic3=MyMusic(\"c\",30)"
   ]
  },
  {
   "cell_type": "code",
   "execution_count": 26,
   "id": "f0c83018",
   "metadata": {},
   "outputs": [
    {
     "name": "stdout",
     "output_type": "stream",
     "text": [
      "we are champions\n"
     ]
    }
   ],
   "source": [
    "MyMusic1.sing()\n"
   ]
  },
  {
   "cell_type": "code",
   "execution_count": 21,
   "id": "f4c708d0",
   "metadata": {},
   "outputs": [
    {
     "name": "stdout",
     "output_type": "stream",
     "text": [
      "MyMusic1 - Name: a Age: 10\n",
      "MyMusic2 - Name: b Age: 20\n",
      "MyMusic3 - Name: c Age: 30\n"
     ]
    }
   ],
   "source": []
  },
  {
   "cell_type": "code",
   "execution_count": 23,
   "id": "6a4ba792",
   "metadata": {},
   "outputs": [
    {
     "ename": "AttributeError",
     "evalue": "'MyMusic' object has no attribute 'sing'",
     "output_type": "error",
     "traceback": [
      "\u001b[1;31m---------------------------------------------------------------------------\u001b[0m",
      "\u001b[1;31mAttributeError\u001b[0m                            Traceback (most recent call last)",
      "Cell \u001b[1;32mIn[23], line 1\u001b[0m\n\u001b[1;32m----> 1\u001b[0m MyMusic1\u001b[38;5;241m.\u001b[39msing()\n",
      "\u001b[1;31mAttributeError\u001b[0m: 'MyMusic' object has no attribute 'sing'"
     ]
    }
   ],
   "source": [
    "MyMusic1.sing()"
   ]
  },
  {
   "cell_type": "code",
   "execution_count": 31,
   "id": "d8fa68ae",
   "metadata": {},
   "outputs": [
    {
     "data": {
      "text/plain": [
       "56"
      ]
     },
     "execution_count": 31,
     "metadata": {},
     "output_type": "execute_result"
    }
   ],
   "source": [
    "class dogyears():\n",
    "    yearsfac=7\n",
    "    def __init__(self,age):\n",
    "        self.age=age\n",
    "    def calc(self):\n",
    "        return self.age*self.yearsfac\n",
    "mydog=dogyears(8)\n",
    "mydog.calc()\n",
    "    "
   ]
  },
  {
   "cell_type": "code",
   "execution_count": null,
   "id": "e8e0ada9",
   "metadata": {},
   "outputs": [],
   "source": []
  }
 ],
 "metadata": {
  "kernelspec": {
   "display_name": "Python 3 (ipykernel)",
   "language": "python",
   "name": "python3"
  },
  "language_info": {
   "codemirror_mode": {
    "name": "ipython",
    "version": 3
   },
   "file_extension": ".py",
   "mimetype": "text/x-python",
   "name": "python",
   "nbconvert_exporter": "python",
   "pygments_lexer": "ipython3",
   "version": "3.11.5"
  }
 },
 "nbformat": 4,
 "nbformat_minor": 5
}
