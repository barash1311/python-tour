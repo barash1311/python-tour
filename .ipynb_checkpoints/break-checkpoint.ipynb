{
 "cells": [
  {
   "cell_type": "code",
   "execution_count": 15,
   "id": "64f8cfb1",
   "metadata": {},
   "outputs": [
    {
     "name": "stdout",
     "output_type": "stream",
     "text": [
      "1\n",
      "2\n",
      "3\n",
      "4\n",
      "6\n",
      "7\n",
      "8\n",
      "9\n",
      "10\n"
     ]
    }
   ],
   "source": [
    "my_list=[1,2,3,4,5,6,7,8,9,10]\n",
    "for i in my_list:\n",
    "    if i==5:\n",
    "        continue\n",
    "    print(i)\n",
    "  "
   ]
  },
  {
   "cell_type": "code",
   "execution_count": 16,
   "id": "a810bee3",
   "metadata": {},
   "outputs": [
    {
     "data": {
      "text/plain": [
       "[1, 2, 3, 4, 5, 6, 7, 8, 9, 10]"
      ]
     },
     "execution_count": 16,
     "metadata": {},
     "output_type": "execute_result"
    }
   ],
   "source": [
    "my_list"
   ]
  },
  {
   "cell_type": "code",
   "execution_count": 1,
   "id": "cef05613",
   "metadata": {},
   "outputs": [
    {
     "name": "stdout",
     "output_type": "stream",
     "text": [
      "hello world\n",
      "hello world\n",
      "hello world\n",
      "hello world\n",
      "hello world\n",
      "hello world\n"
     ]
    }
   ],
   "source": [
    "a=0;\n",
    "while a<=5:\n",
    "    print(\"hello world\")\n",
    "    a=a+1\n",
    "    "
   ]
  },
  {
   "cell_type": "code",
   "execution_count": 2,
   "id": "5ca0e3ad",
   "metadata": {},
   "outputs": [],
   "source": [
    "#range"
   ]
  },
  {
   "cell_type": "code",
   "execution_count": 3,
   "id": "d4011fc3",
   "metadata": {},
   "outputs": [
    {
     "data": {
      "text/plain": [
       "range(0, 20)"
      ]
     },
     "execution_count": 3,
     "metadata": {},
     "output_type": "execute_result"
    }
   ],
   "source": [
    "range(20)"
   ]
  },
  {
   "cell_type": "code",
   "execution_count": 14,
   "id": "8064f868",
   "metadata": {},
   "outputs": [
    {
     "data": {
      "text/plain": [
       "{}"
      ]
     },
     "execution_count": 14,
     "metadata": {},
     "output_type": "execute_result"
    }
   ],
   "source": [
    "dict(range(20,0))\n"
   ]
  },
  {
   "cell_type": "code",
   "execution_count": 15,
   "id": "7c668b9c",
   "metadata": {},
   "outputs": [],
   "source": []
  },
  {
   "cell_type": "code",
   "execution_count": 21,
   "id": "e8b51374",
   "metadata": {},
   "outputs": [
    {
     "name": "stdout",
     "output_type": "stream",
     "text": [
      "no is : 0\n",
      "no is : 3\n",
      "no is : 6\n",
      "no is : 9\n",
      "no is : 12\n",
      "no is : 15\n",
      "no is : 18\n"
     ]
    }
   ],
   "source": [
    "for i in list(range(0,20,3)):\n",
    "    print(f\"no is :\",i)"
   ]
  },
  {
   "cell_type": "code",
   "execution_count": 25,
   "id": "e2a4aeba",
   "metadata": {},
   "outputs": [
    {
     "name": "stdout",
     "output_type": "stream",
     "text": [
      "5\n",
      "index is  0\n",
      "6\n",
      "index is  1\n",
      "7\n",
      "index is  2\n",
      "8\n",
      "index is  3\n",
      "9\n",
      "index is  4\n",
      "10\n",
      "index is  5\n",
      "11\n",
      "index is  6\n",
      "12\n",
      "index is  7\n",
      "13\n",
      "index is  8\n",
      "14\n",
      "index is  9\n",
      "15\n",
      "index is  10\n",
      "16\n",
      "index is  11\n",
      "17\n",
      "index is  12\n",
      "18\n",
      "index is  13\n",
      "19\n",
      "index is  14\n"
     ]
    }
   ],
   "source": [
    "#enumeration\n",
    "index=0\n",
    "for num in list(range(5,20)):\n",
    "    print(num)\n",
    "    print(f\"index is \",index)\n",
    "    index+=1;"
   ]
  },
  {
   "cell_type": "code",
   "execution_count": 26,
   "id": "0449ddd4",
   "metadata": {},
   "outputs": [
    {
     "name": "stdout",
     "output_type": "stream",
     "text": [
      "(0, 0)\n",
      "(1, 3)\n",
      "(2, 6)\n",
      "(3, 9)\n",
      "(4, 12)\n",
      "(5, 15)\n",
      "(6, 18)\n"
     ]
    }
   ],
   "source": [
    "for i in enumerate(list(range(0,20,3))):\n",
    "    print(i)\n",
    "    "
   ]
  }
 ],
 "metadata": {
  "kernelspec": {
   "display_name": "Python 3 (ipykernel)",
   "language": "python",
   "name": "python3"
  },
  "language_info": {
   "codemirror_mode": {
    "name": "ipython",
    "version": 3
   },
   "file_extension": ".py",
   "mimetype": "text/x-python",
   "name": "python",
   "nbconvert_exporter": "python",
   "pygments_lexer": "ipython3",
   "version": "3.11.5"
  }
 },
 "nbformat": 4,
 "nbformat_minor": 5
}
