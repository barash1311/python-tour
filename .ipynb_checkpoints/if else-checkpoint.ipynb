{
 "cells": [
  {
   "cell_type": "code",
   "execution_count": 9,
   "id": "bec16175",
   "metadata": {},
   "outputs": [
    {
     "name": "stdout",
     "output_type": "stream",
     "text": [
      "enter the value of x12\n",
      "do you have car:y\n",
      "12\n",
      "you cant\n"
     ]
    }
   ],
   "source": [
    "x=int(input(\"enter the value of x\"))\n",
    "y=input(\"do you have car:\")\n",
    "print(x)\n",
    "if x>18:\n",
    "    if y==\"y\":\n",
    "        print(\"bhai2\")\n",
    "        print(\"ypu can vote\")\n",
    "    else:\n",
    "        print(\"-bhai\")\n",
    "elif x==18:\n",
    "    print(\"bhai\")\n",
    "else:\n",
    "    print(\"you cant\")"
   ]
  },
  {
   "cell_type": "code",
   "execution_count": null,
   "id": "1b3fffed",
   "metadata": {},
   "outputs": [],
   "source": []
  }
 ],
 "metadata": {
  "kernelspec": {
   "display_name": "Python 3 (ipykernel)",
   "language": "python",
   "name": "python3"
  },
  "language_info": {
   "codemirror_mode": {
    "name": "ipython",
    "version": 3
   },
   "file_extension": ".py",
   "mimetype": "text/x-python",
   "name": "python",
   "nbconvert_exporter": "python",
   "pygments_lexer": "ipython3",
   "version": "3.11.5"
  }
 },
 "nbformat": 4,
 "nbformat_minor": 5
}
