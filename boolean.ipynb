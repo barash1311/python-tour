{
 "cells": [
  {
   "cell_type": "code",
   "execution_count": null,
   "id": "2f640a67",
   "metadata": {},
   "outputs": [],
   "source": [
    "True\n",
    "False\n",
    "None\n"
   ]
  },
  {
   "cell_type": "code",
   "execution_count": 1,
   "id": "c575efc5",
   "metadata": {},
   "outputs": [
    {
     "data": {
      "text/plain": [
       "False"
      ]
     },
     "execution_count": 1,
     "metadata": {},
     "output_type": "execute_result"
    }
   ],
   "source": [
    "my_hero=False\n",
    "my_hero"
   ]
  },
  {
   "cell_type": "markdown",
   "id": "6a9028a5",
   "metadata": {},
   "source": [
    "5>3"
   ]
  },
  {
   "cell_type": "code",
   "execution_count": 2,
   "id": "8bfb78de",
   "metadata": {},
   "outputs": [
    {
     "data": {
      "text/plain": [
       "False"
      ]
     },
     "execution_count": 2,
     "metadata": {},
     "output_type": "execute_result"
    }
   ],
   "source": [
    "5>5"
   ]
  },
  {
   "cell_type": "code",
   "execution_count": 3,
   "id": "f78b0a39",
   "metadata": {},
   "outputs": [
    {
     "data": {
      "text/plain": [
       "True"
      ]
     },
     "execution_count": 3,
     "metadata": {},
     "output_type": "execute_result"
    }
   ],
   "source": [
    "5>=5\n"
   ]
  },
  {
   "cell_type": "code",
   "execution_count": null,
   "id": "26498ca7",
   "metadata": {},
   "outputs": [],
   "source": [
    "S"
   ]
  }
 ],
 "metadata": {
  "kernelspec": {
   "display_name": "Python 3 (ipykernel)",
   "language": "python",
   "name": "python3"
  },
  "language_info": {
   "codemirror_mode": {
    "name": "ipython",
    "version": 3
   },
   "file_extension": ".py",
   "mimetype": "text/x-python",
   "name": "python",
   "nbconvert_exporter": "python",
   "pygments_lexer": "ipython3",
   "version": "3.11.5"
  }
 },
 "nbformat": 4,
 "nbformat_minor": 5
}
